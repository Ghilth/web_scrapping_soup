{
  "nbformat": 4,
  "nbformat_minor": 0,
  "metadata": {
    "colab": {
      "provenance": []
    },
    "kernelspec": {
      "name": "python3",
      "display_name": "Python 3"
    },
    "language_info": {
      "name": "python"
    }
  },
  "cells": [
    {
      "cell_type": "markdown",
      "source": [
        "# TP webscraping Ecommerce"
      ],
      "metadata": {
        "id": "7eEF7NAcy3Yt"
      }
    },
    {
      "cell_type": "markdown",
      "source": [
        "## Packages"
      ],
      "metadata": {
        "id": "3KXiezl8z7mJ"
      }
    },
    {
      "cell_type": "code",
      "source": [
        "!pip install beautifulsoup4"
      ],
      "metadata": {
        "colab": {
          "base_uri": "https://localhost:8080/"
        },
        "id": "BVWYp4u7zQtZ",
        "outputId": "bc42e2e4-ce5d-407c-e371-689fe02103cd"
      },
      "execution_count": 89,
      "outputs": [
        {
          "output_type": "stream",
          "name": "stdout",
          "text": [
            "Requirement already satisfied: beautifulsoup4 in /usr/local/lib/python3.11/dist-packages (4.12.3)\n",
            "Requirement already satisfied: soupsieve>1.2 in /usr/local/lib/python3.11/dist-packages (from beautifulsoup4) (2.6)\n"
          ]
        }
      ]
    },
    {
      "cell_type": "code",
      "execution_count": 90,
      "metadata": {
        "id": "pY-C1InyypPW"
      },
      "outputs": [],
      "source": [
        "import numpy as np\n",
        "import pandas as pd\n",
        "import requests\n",
        "from bs4 import BeautifulSoup"
      ]
    },
    {
      "cell_type": "markdown",
      "source": [
        "##  Scrappons ce site qui propose des livres en ligne. Voici le [lien](http://books.toscrape.com/)\n"
      ],
      "metadata": {
        "id": "rRzpkwdlR0pz"
      }
    },
    {
      "cell_type": "code",
      "source": [
        "data_list=[]  #liste pour stocker toutes les  collectées"
      ],
      "metadata": {
        "id": "aGpi9KkaXfLL"
      },
      "execution_count": 91,
      "outputs": []
    },
    {
      "cell_type": "markdown",
      "source": [
        "## FOnction pour l'extraction de données"
      ],
      "metadata": {
        "id": "Pw1LxvKkPRe2"
      }
    },
    {
      "cell_type": "code",
      "source": [
        "#fonction pour l'extraction\n",
        "\n",
        "def scrap_pipeline(url):\n",
        "\n",
        "  html=requests.get(url)\n",
        "  soup = BeautifulSoup(html.text, \"html.parser\")\n",
        "\n",
        "\n",
        "  books_list= soup.find_all('article', class_='product_pod')\n",
        "\n",
        "\n",
        "  for book in books_list:\n",
        "\n",
        "        title = book.find('h3').find('a')['title']\n",
        "\n",
        "        price = book.find('p', class_='price_color').text.strip()\n",
        "\n",
        "        relative_link = book.find('h3').find('a')['href']\n",
        "        link = url + relative_link\n",
        "\n",
        "        data_list.append({'Title': title, 'Price': price, 'Link': link})\n"
      ],
      "metadata": {
        "id": "gBQRc2uUVMeB"
      },
      "execution_count": 92,
      "outputs": []
    },
    {
      "cell_type": "markdown",
      "source": [
        "## Scrappons les données des 50 premières pages"
      ],
      "metadata": {
        "id": "7zo1_b-GZeYg"
      }
    },
    {
      "cell_type": "code",
      "source": [
        "for i in range(50):\n",
        "\n",
        "  url=f\"http://books.toscrape.com/catalogue/page-{i+1}.html\"\n",
        "  print(f\"url {i+1} : {url}\")\n",
        "  scrap_pipeline(url)"
      ],
      "metadata": {
        "colab": {
          "base_uri": "https://localhost:8080/"
        },
        "id": "cl_-xQRjainy",
        "outputId": "1f7014a8-99de-4256-afa4-3c40173da248"
      },
      "execution_count": 93,
      "outputs": [
        {
          "output_type": "stream",
          "name": "stdout",
          "text": [
            "url 1 : http://books.toscrape.com/catalogue/page-1.html\n",
            "url 2 : http://books.toscrape.com/catalogue/page-2.html\n",
            "url 3 : http://books.toscrape.com/catalogue/page-3.html\n",
            "url 4 : http://books.toscrape.com/catalogue/page-4.html\n",
            "url 5 : http://books.toscrape.com/catalogue/page-5.html\n",
            "url 6 : http://books.toscrape.com/catalogue/page-6.html\n",
            "url 7 : http://books.toscrape.com/catalogue/page-7.html\n",
            "url 8 : http://books.toscrape.com/catalogue/page-8.html\n",
            "url 9 : http://books.toscrape.com/catalogue/page-9.html\n",
            "url 10 : http://books.toscrape.com/catalogue/page-10.html\n",
            "url 11 : http://books.toscrape.com/catalogue/page-11.html\n",
            "url 12 : http://books.toscrape.com/catalogue/page-12.html\n",
            "url 13 : http://books.toscrape.com/catalogue/page-13.html\n",
            "url 14 : http://books.toscrape.com/catalogue/page-14.html\n",
            "url 15 : http://books.toscrape.com/catalogue/page-15.html\n",
            "url 16 : http://books.toscrape.com/catalogue/page-16.html\n",
            "url 17 : http://books.toscrape.com/catalogue/page-17.html\n",
            "url 18 : http://books.toscrape.com/catalogue/page-18.html\n",
            "url 19 : http://books.toscrape.com/catalogue/page-19.html\n",
            "url 20 : http://books.toscrape.com/catalogue/page-20.html\n",
            "url 21 : http://books.toscrape.com/catalogue/page-21.html\n",
            "url 22 : http://books.toscrape.com/catalogue/page-22.html\n",
            "url 23 : http://books.toscrape.com/catalogue/page-23.html\n",
            "url 24 : http://books.toscrape.com/catalogue/page-24.html\n",
            "url 25 : http://books.toscrape.com/catalogue/page-25.html\n",
            "url 26 : http://books.toscrape.com/catalogue/page-26.html\n",
            "url 27 : http://books.toscrape.com/catalogue/page-27.html\n",
            "url 28 : http://books.toscrape.com/catalogue/page-28.html\n",
            "url 29 : http://books.toscrape.com/catalogue/page-29.html\n",
            "url 30 : http://books.toscrape.com/catalogue/page-30.html\n",
            "url 31 : http://books.toscrape.com/catalogue/page-31.html\n",
            "url 32 : http://books.toscrape.com/catalogue/page-32.html\n",
            "url 33 : http://books.toscrape.com/catalogue/page-33.html\n",
            "url 34 : http://books.toscrape.com/catalogue/page-34.html\n",
            "url 35 : http://books.toscrape.com/catalogue/page-35.html\n",
            "url 36 : http://books.toscrape.com/catalogue/page-36.html\n",
            "url 37 : http://books.toscrape.com/catalogue/page-37.html\n",
            "url 38 : http://books.toscrape.com/catalogue/page-38.html\n",
            "url 39 : http://books.toscrape.com/catalogue/page-39.html\n",
            "url 40 : http://books.toscrape.com/catalogue/page-40.html\n",
            "url 41 : http://books.toscrape.com/catalogue/page-41.html\n",
            "url 42 : http://books.toscrape.com/catalogue/page-42.html\n",
            "url 43 : http://books.toscrape.com/catalogue/page-43.html\n",
            "url 44 : http://books.toscrape.com/catalogue/page-44.html\n",
            "url 45 : http://books.toscrape.com/catalogue/page-45.html\n",
            "url 46 : http://books.toscrape.com/catalogue/page-46.html\n",
            "url 47 : http://books.toscrape.com/catalogue/page-47.html\n",
            "url 48 : http://books.toscrape.com/catalogue/page-48.html\n",
            "url 49 : http://books.toscrape.com/catalogue/page-49.html\n",
            "url 50 : http://books.toscrape.com/catalogue/page-50.html\n"
          ]
        }
      ]
    },
    {
      "cell_type": "code",
      "source": [
        "len(data_list)"
      ],
      "metadata": {
        "colab": {
          "base_uri": "https://localhost:8080/"
        },
        "id": "P3n5Cavzcvas",
        "outputId": "7ffe3a06-eb54-4451-e7eb-03f78bad82fb"
      },
      "execution_count": 94,
      "outputs": [
        {
          "output_type": "execute_result",
          "data": {
            "text/plain": [
              "1000"
            ]
          },
          "metadata": {},
          "execution_count": 94
        }
      ]
    },
    {
      "cell_type": "markdown",
      "source": [
        "## Enregistrons les données dans un **dataframe**"
      ],
      "metadata": {
        "id": "32ndnpClbCw3"
      }
    },
    {
      "cell_type": "code",
      "source": [
        "# Créer un DataFrame pandas avec les données\n",
        "df = pd.DataFrame(data_list)\n",
        "\n",
        "# Sauvegarder dans un fichier CSV si nécessaire\n",
        "df.to_csv('books_data.csv', index=False, encoding='utf-8')"
      ],
      "metadata": {
        "id": "6ArIW_r3bKA5"
      },
      "execution_count": 95,
      "outputs": []
    },
    {
      "cell_type": "code",
      "source": [
        "df.sample(20)"
      ],
      "metadata": {
        "colab": {
          "base_uri": "https://localhost:8080/",
          "height": 677
        },
        "id": "nMQ8-ZGTbnpy",
        "outputId": "712be0f9-9610-4d4c-acdd-18bc113e6837"
      },
      "execution_count": 96,
      "outputs": [
        {
          "output_type": "execute_result",
          "data": {
            "text/plain": [
              "                                                 Title    Price  \\\n",
              "297                          I Am Pilgrim (Pilgrim #1)  Â£10.60   \n",
              "93   Lumberjanes, Vol. 2: Friendship to the Max (Lu...  Â£46.91   \n",
              "531                    Good in Bed (Cannie Shapiro #1)  Â£37.05   \n",
              "413                                              Arena  Â£21.36   \n",
              "376  Murder at the 42nd Street Library (Raymond Amb...  Â£54.36   \n",
              "98                                                Join  Â£35.67   \n",
              "138  The Third Wave: An Entrepreneurâs Vision of ...  Â£12.61   \n",
              "913                                    The Zombie Room  Â£19.69   \n",
              "761          The Cuckoo's Calling (Cormoran Strike #1)  Â£19.21   \n",
              "216                                       You (You #1)  Â£43.61   \n",
              "776             Something Borrowed (Darcy & Rachel #1)  Â£48.96   \n",
              "611    Peak: Secrets from the New Science of Expertise  Â£16.28   \n",
              "690  A History of God: The 4,000-Year Quest of Juda...  Â£27.62   \n",
              "385                                Dirty (Dive Bar #1)  Â£40.83   \n",
              "911        Three Wishes (River of Time: California #1)  Â£44.18   \n",
              "446                                        Why Not Me?  Â£17.76   \n",
              "444  23 Degrees South: A Tropical Tale of Changing ...  Â£35.79   \n",
              "327                     Catching Jordan (Hundred Oaks)  Â£50.83   \n",
              "686                                     Atlas Shrugged  Â£26.58   \n",
              "198                  Doing It Over (Most Likely To #1)  Â£35.61   \n",
              "\n",
              "                                                  Link  \n",
              "297  http://books.toscrape.com/catalogue/page-15.ht...  \n",
              "93   http://books.toscrape.com/catalogue/page-5.htm...  \n",
              "531  http://books.toscrape.com/catalogue/page-27.ht...  \n",
              "413  http://books.toscrape.com/catalogue/page-21.ht...  \n",
              "376  http://books.toscrape.com/catalogue/page-19.ht...  \n",
              "98   http://books.toscrape.com/catalogue/page-5.htm...  \n",
              "138  http://books.toscrape.com/catalogue/page-7.htm...  \n",
              "913  http://books.toscrape.com/catalogue/page-46.ht...  \n",
              "761  http://books.toscrape.com/catalogue/page-39.ht...  \n",
              "216  http://books.toscrape.com/catalogue/page-11.ht...  \n",
              "776  http://books.toscrape.com/catalogue/page-39.ht...  \n",
              "611  http://books.toscrape.com/catalogue/page-31.ht...  \n",
              "690  http://books.toscrape.com/catalogue/page-35.ht...  \n",
              "385  http://books.toscrape.com/catalogue/page-20.ht...  \n",
              "911  http://books.toscrape.com/catalogue/page-46.ht...  \n",
              "446  http://books.toscrape.com/catalogue/page-23.ht...  \n",
              "444  http://books.toscrape.com/catalogue/page-23.ht...  \n",
              "327  http://books.toscrape.com/catalogue/page-17.ht...  \n",
              "686  http://books.toscrape.com/catalogue/page-35.ht...  \n",
              "198  http://books.toscrape.com/catalogue/page-10.ht...  "
            ],
            "text/html": [
              "\n",
              "  <div id=\"df-6bda3f82-1220-4e2e-8e6c-b9121b5d341c\" class=\"colab-df-container\">\n",
              "    <div>\n",
              "<style scoped>\n",
              "    .dataframe tbody tr th:only-of-type {\n",
              "        vertical-align: middle;\n",
              "    }\n",
              "\n",
              "    .dataframe tbody tr th {\n",
              "        vertical-align: top;\n",
              "    }\n",
              "\n",
              "    .dataframe thead th {\n",
              "        text-align: right;\n",
              "    }\n",
              "</style>\n",
              "<table border=\"1\" class=\"dataframe\">\n",
              "  <thead>\n",
              "    <tr style=\"text-align: right;\">\n",
              "      <th></th>\n",
              "      <th>Title</th>\n",
              "      <th>Price</th>\n",
              "      <th>Link</th>\n",
              "    </tr>\n",
              "  </thead>\n",
              "  <tbody>\n",
              "    <tr>\n",
              "      <th>297</th>\n",
              "      <td>I Am Pilgrim (Pilgrim #1)</td>\n",
              "      <td>Â£10.60</td>\n",
              "      <td>http://books.toscrape.com/catalogue/page-15.ht...</td>\n",
              "    </tr>\n",
              "    <tr>\n",
              "      <th>93</th>\n",
              "      <td>Lumberjanes, Vol. 2: Friendship to the Max (Lu...</td>\n",
              "      <td>Â£46.91</td>\n",
              "      <td>http://books.toscrape.com/catalogue/page-5.htm...</td>\n",
              "    </tr>\n",
              "    <tr>\n",
              "      <th>531</th>\n",
              "      <td>Good in Bed (Cannie Shapiro #1)</td>\n",
              "      <td>Â£37.05</td>\n",
              "      <td>http://books.toscrape.com/catalogue/page-27.ht...</td>\n",
              "    </tr>\n",
              "    <tr>\n",
              "      <th>413</th>\n",
              "      <td>Arena</td>\n",
              "      <td>Â£21.36</td>\n",
              "      <td>http://books.toscrape.com/catalogue/page-21.ht...</td>\n",
              "    </tr>\n",
              "    <tr>\n",
              "      <th>376</th>\n",
              "      <td>Murder at the 42nd Street Library (Raymond Amb...</td>\n",
              "      <td>Â£54.36</td>\n",
              "      <td>http://books.toscrape.com/catalogue/page-19.ht...</td>\n",
              "    </tr>\n",
              "    <tr>\n",
              "      <th>98</th>\n",
              "      <td>Join</td>\n",
              "      <td>Â£35.67</td>\n",
              "      <td>http://books.toscrape.com/catalogue/page-5.htm...</td>\n",
              "    </tr>\n",
              "    <tr>\n",
              "      <th>138</th>\n",
              "      <td>The Third Wave: An Entrepreneurâs Vision of ...</td>\n",
              "      <td>Â£12.61</td>\n",
              "      <td>http://books.toscrape.com/catalogue/page-7.htm...</td>\n",
              "    </tr>\n",
              "    <tr>\n",
              "      <th>913</th>\n",
              "      <td>The Zombie Room</td>\n",
              "      <td>Â£19.69</td>\n",
              "      <td>http://books.toscrape.com/catalogue/page-46.ht...</td>\n",
              "    </tr>\n",
              "    <tr>\n",
              "      <th>761</th>\n",
              "      <td>The Cuckoo's Calling (Cormoran Strike #1)</td>\n",
              "      <td>Â£19.21</td>\n",
              "      <td>http://books.toscrape.com/catalogue/page-39.ht...</td>\n",
              "    </tr>\n",
              "    <tr>\n",
              "      <th>216</th>\n",
              "      <td>You (You #1)</td>\n",
              "      <td>Â£43.61</td>\n",
              "      <td>http://books.toscrape.com/catalogue/page-11.ht...</td>\n",
              "    </tr>\n",
              "    <tr>\n",
              "      <th>776</th>\n",
              "      <td>Something Borrowed (Darcy &amp; Rachel #1)</td>\n",
              "      <td>Â£48.96</td>\n",
              "      <td>http://books.toscrape.com/catalogue/page-39.ht...</td>\n",
              "    </tr>\n",
              "    <tr>\n",
              "      <th>611</th>\n",
              "      <td>Peak: Secrets from the New Science of Expertise</td>\n",
              "      <td>Â£16.28</td>\n",
              "      <td>http://books.toscrape.com/catalogue/page-31.ht...</td>\n",
              "    </tr>\n",
              "    <tr>\n",
              "      <th>690</th>\n",
              "      <td>A History of God: The 4,000-Year Quest of Juda...</td>\n",
              "      <td>Â£27.62</td>\n",
              "      <td>http://books.toscrape.com/catalogue/page-35.ht...</td>\n",
              "    </tr>\n",
              "    <tr>\n",
              "      <th>385</th>\n",
              "      <td>Dirty (Dive Bar #1)</td>\n",
              "      <td>Â£40.83</td>\n",
              "      <td>http://books.toscrape.com/catalogue/page-20.ht...</td>\n",
              "    </tr>\n",
              "    <tr>\n",
              "      <th>911</th>\n",
              "      <td>Three Wishes (River of Time: California #1)</td>\n",
              "      <td>Â£44.18</td>\n",
              "      <td>http://books.toscrape.com/catalogue/page-46.ht...</td>\n",
              "    </tr>\n",
              "    <tr>\n",
              "      <th>446</th>\n",
              "      <td>Why Not Me?</td>\n",
              "      <td>Â£17.76</td>\n",
              "      <td>http://books.toscrape.com/catalogue/page-23.ht...</td>\n",
              "    </tr>\n",
              "    <tr>\n",
              "      <th>444</th>\n",
              "      <td>23 Degrees South: A Tropical Tale of Changing ...</td>\n",
              "      <td>Â£35.79</td>\n",
              "      <td>http://books.toscrape.com/catalogue/page-23.ht...</td>\n",
              "    </tr>\n",
              "    <tr>\n",
              "      <th>327</th>\n",
              "      <td>Catching Jordan (Hundred Oaks)</td>\n",
              "      <td>Â£50.83</td>\n",
              "      <td>http://books.toscrape.com/catalogue/page-17.ht...</td>\n",
              "    </tr>\n",
              "    <tr>\n",
              "      <th>686</th>\n",
              "      <td>Atlas Shrugged</td>\n",
              "      <td>Â£26.58</td>\n",
              "      <td>http://books.toscrape.com/catalogue/page-35.ht...</td>\n",
              "    </tr>\n",
              "    <tr>\n",
              "      <th>198</th>\n",
              "      <td>Doing It Over (Most Likely To #1)</td>\n",
              "      <td>Â£35.61</td>\n",
              "      <td>http://books.toscrape.com/catalogue/page-10.ht...</td>\n",
              "    </tr>\n",
              "  </tbody>\n",
              "</table>\n",
              "</div>\n",
              "    <div class=\"colab-df-buttons\">\n",
              "\n",
              "  <div class=\"colab-df-container\">\n",
              "    <button class=\"colab-df-convert\" onclick=\"convertToInteractive('df-6bda3f82-1220-4e2e-8e6c-b9121b5d341c')\"\n",
              "            title=\"Convert this dataframe to an interactive table.\"\n",
              "            style=\"display:none;\">\n",
              "\n",
              "  <svg xmlns=\"http://www.w3.org/2000/svg\" height=\"24px\" viewBox=\"0 -960 960 960\">\n",
              "    <path d=\"M120-120v-720h720v720H120Zm60-500h600v-160H180v160Zm220 220h160v-160H400v160Zm0 220h160v-160H400v160ZM180-400h160v-160H180v160Zm440 0h160v-160H620v160ZM180-180h160v-160H180v160Zm440 0h160v-160H620v160Z\"/>\n",
              "  </svg>\n",
              "    </button>\n",
              "\n",
              "  <style>\n",
              "    .colab-df-container {\n",
              "      display:flex;\n",
              "      gap: 12px;\n",
              "    }\n",
              "\n",
              "    .colab-df-convert {\n",
              "      background-color: #E8F0FE;\n",
              "      border: none;\n",
              "      border-radius: 50%;\n",
              "      cursor: pointer;\n",
              "      display: none;\n",
              "      fill: #1967D2;\n",
              "      height: 32px;\n",
              "      padding: 0 0 0 0;\n",
              "      width: 32px;\n",
              "    }\n",
              "\n",
              "    .colab-df-convert:hover {\n",
              "      background-color: #E2EBFA;\n",
              "      box-shadow: 0px 1px 2px rgba(60, 64, 67, 0.3), 0px 1px 3px 1px rgba(60, 64, 67, 0.15);\n",
              "      fill: #174EA6;\n",
              "    }\n",
              "\n",
              "    .colab-df-buttons div {\n",
              "      margin-bottom: 4px;\n",
              "    }\n",
              "\n",
              "    [theme=dark] .colab-df-convert {\n",
              "      background-color: #3B4455;\n",
              "      fill: #D2E3FC;\n",
              "    }\n",
              "\n",
              "    [theme=dark] .colab-df-convert:hover {\n",
              "      background-color: #434B5C;\n",
              "      box-shadow: 0px 1px 3px 1px rgba(0, 0, 0, 0.15);\n",
              "      filter: drop-shadow(0px 1px 2px rgba(0, 0, 0, 0.3));\n",
              "      fill: #FFFFFF;\n",
              "    }\n",
              "  </style>\n",
              "\n",
              "    <script>\n",
              "      const buttonEl =\n",
              "        document.querySelector('#df-6bda3f82-1220-4e2e-8e6c-b9121b5d341c button.colab-df-convert');\n",
              "      buttonEl.style.display =\n",
              "        google.colab.kernel.accessAllowed ? 'block' : 'none';\n",
              "\n",
              "      async function convertToInteractive(key) {\n",
              "        const element = document.querySelector('#df-6bda3f82-1220-4e2e-8e6c-b9121b5d341c');\n",
              "        const dataTable =\n",
              "          await google.colab.kernel.invokeFunction('convertToInteractive',\n",
              "                                                    [key], {});\n",
              "        if (!dataTable) return;\n",
              "\n",
              "        const docLinkHtml = 'Like what you see? Visit the ' +\n",
              "          '<a target=\"_blank\" href=https://colab.research.google.com/notebooks/data_table.ipynb>data table notebook</a>'\n",
              "          + ' to learn more about interactive tables.';\n",
              "        element.innerHTML = '';\n",
              "        dataTable['output_type'] = 'display_data';\n",
              "        await google.colab.output.renderOutput(dataTable, element);\n",
              "        const docLink = document.createElement('div');\n",
              "        docLink.innerHTML = docLinkHtml;\n",
              "        element.appendChild(docLink);\n",
              "      }\n",
              "    </script>\n",
              "  </div>\n",
              "\n",
              "\n",
              "<div id=\"df-f21f4b0e-c15a-4f95-bed2-3a3cdd6054c2\">\n",
              "  <button class=\"colab-df-quickchart\" onclick=\"quickchart('df-f21f4b0e-c15a-4f95-bed2-3a3cdd6054c2')\"\n",
              "            title=\"Suggest charts\"\n",
              "            style=\"display:none;\">\n",
              "\n",
              "<svg xmlns=\"http://www.w3.org/2000/svg\" height=\"24px\"viewBox=\"0 0 24 24\"\n",
              "     width=\"24px\">\n",
              "    <g>\n",
              "        <path d=\"M19 3H5c-1.1 0-2 .9-2 2v14c0 1.1.9 2 2 2h14c1.1 0 2-.9 2-2V5c0-1.1-.9-2-2-2zM9 17H7v-7h2v7zm4 0h-2V7h2v10zm4 0h-2v-4h2v4z\"/>\n",
              "    </g>\n",
              "</svg>\n",
              "  </button>\n",
              "\n",
              "<style>\n",
              "  .colab-df-quickchart {\n",
              "      --bg-color: #E8F0FE;\n",
              "      --fill-color: #1967D2;\n",
              "      --hover-bg-color: #E2EBFA;\n",
              "      --hover-fill-color: #174EA6;\n",
              "      --disabled-fill-color: #AAA;\n",
              "      --disabled-bg-color: #DDD;\n",
              "  }\n",
              "\n",
              "  [theme=dark] .colab-df-quickchart {\n",
              "      --bg-color: #3B4455;\n",
              "      --fill-color: #D2E3FC;\n",
              "      --hover-bg-color: #434B5C;\n",
              "      --hover-fill-color: #FFFFFF;\n",
              "      --disabled-bg-color: #3B4455;\n",
              "      --disabled-fill-color: #666;\n",
              "  }\n",
              "\n",
              "  .colab-df-quickchart {\n",
              "    background-color: var(--bg-color);\n",
              "    border: none;\n",
              "    border-radius: 50%;\n",
              "    cursor: pointer;\n",
              "    display: none;\n",
              "    fill: var(--fill-color);\n",
              "    height: 32px;\n",
              "    padding: 0;\n",
              "    width: 32px;\n",
              "  }\n",
              "\n",
              "  .colab-df-quickchart:hover {\n",
              "    background-color: var(--hover-bg-color);\n",
              "    box-shadow: 0 1px 2px rgba(60, 64, 67, 0.3), 0 1px 3px 1px rgba(60, 64, 67, 0.15);\n",
              "    fill: var(--button-hover-fill-color);\n",
              "  }\n",
              "\n",
              "  .colab-df-quickchart-complete:disabled,\n",
              "  .colab-df-quickchart-complete:disabled:hover {\n",
              "    background-color: var(--disabled-bg-color);\n",
              "    fill: var(--disabled-fill-color);\n",
              "    box-shadow: none;\n",
              "  }\n",
              "\n",
              "  .colab-df-spinner {\n",
              "    border: 2px solid var(--fill-color);\n",
              "    border-color: transparent;\n",
              "    border-bottom-color: var(--fill-color);\n",
              "    animation:\n",
              "      spin 1s steps(1) infinite;\n",
              "  }\n",
              "\n",
              "  @keyframes spin {\n",
              "    0% {\n",
              "      border-color: transparent;\n",
              "      border-bottom-color: var(--fill-color);\n",
              "      border-left-color: var(--fill-color);\n",
              "    }\n",
              "    20% {\n",
              "      border-color: transparent;\n",
              "      border-left-color: var(--fill-color);\n",
              "      border-top-color: var(--fill-color);\n",
              "    }\n",
              "    30% {\n",
              "      border-color: transparent;\n",
              "      border-left-color: var(--fill-color);\n",
              "      border-top-color: var(--fill-color);\n",
              "      border-right-color: var(--fill-color);\n",
              "    }\n",
              "    40% {\n",
              "      border-color: transparent;\n",
              "      border-right-color: var(--fill-color);\n",
              "      border-top-color: var(--fill-color);\n",
              "    }\n",
              "    60% {\n",
              "      border-color: transparent;\n",
              "      border-right-color: var(--fill-color);\n",
              "    }\n",
              "    80% {\n",
              "      border-color: transparent;\n",
              "      border-right-color: var(--fill-color);\n",
              "      border-bottom-color: var(--fill-color);\n",
              "    }\n",
              "    90% {\n",
              "      border-color: transparent;\n",
              "      border-bottom-color: var(--fill-color);\n",
              "    }\n",
              "  }\n",
              "</style>\n",
              "\n",
              "  <script>\n",
              "    async function quickchart(key) {\n",
              "      const quickchartButtonEl =\n",
              "        document.querySelector('#' + key + ' button');\n",
              "      quickchartButtonEl.disabled = true;  // To prevent multiple clicks.\n",
              "      quickchartButtonEl.classList.add('colab-df-spinner');\n",
              "      try {\n",
              "        const charts = await google.colab.kernel.invokeFunction(\n",
              "            'suggestCharts', [key], {});\n",
              "      } catch (error) {\n",
              "        console.error('Error during call to suggestCharts:', error);\n",
              "      }\n",
              "      quickchartButtonEl.classList.remove('colab-df-spinner');\n",
              "      quickchartButtonEl.classList.add('colab-df-quickchart-complete');\n",
              "    }\n",
              "    (() => {\n",
              "      let quickchartButtonEl =\n",
              "        document.querySelector('#df-f21f4b0e-c15a-4f95-bed2-3a3cdd6054c2 button');\n",
              "      quickchartButtonEl.style.display =\n",
              "        google.colab.kernel.accessAllowed ? 'block' : 'none';\n",
              "    })();\n",
              "  </script>\n",
              "</div>\n",
              "\n",
              "    </div>\n",
              "  </div>\n"
            ],
            "application/vnd.google.colaboratory.intrinsic+json": {
              "type": "dataframe",
              "summary": "{\n  \"name\": \"df\",\n  \"rows\": 20,\n  \"fields\": [\n    {\n      \"column\": \"Title\",\n      \"properties\": {\n        \"dtype\": \"string\",\n        \"num_unique_values\": 20,\n        \"samples\": [\n          \"I Am Pilgrim (Pilgrim #1)\",\n          \"Catching Jordan (Hundred Oaks)\",\n          \"Why Not Me?\"\n        ],\n        \"semantic_type\": \"\",\n        \"description\": \"\"\n      }\n    },\n    {\n      \"column\": \"Price\",\n      \"properties\": {\n        \"dtype\": \"string\",\n        \"num_unique_values\": 20,\n        \"samples\": [\n          \"\\u00c2\\u00a310.60\",\n          \"\\u00c2\\u00a350.83\",\n          \"\\u00c2\\u00a317.76\"\n        ],\n        \"semantic_type\": \"\",\n        \"description\": \"\"\n      }\n    },\n    {\n      \"column\": \"Link\",\n      \"properties\": {\n        \"dtype\": \"string\",\n        \"num_unique_values\": 20,\n        \"samples\": [\n          \"http://books.toscrape.com/catalogue/page-15.htmli-am-pilgrim-pilgrim-1_703/index.html\",\n          \"http://books.toscrape.com/catalogue/page-17.htmlcatching-jordan-hundred-oaks_673/index.html\",\n          \"http://books.toscrape.com/catalogue/page-23.htmlwhy-not-me_554/index.html\"\n        ],\n        \"semantic_type\": \"\",\n        \"description\": \"\"\n      }\n    }\n  ]\n}"
            }
          },
          "metadata": {},
          "execution_count": 96
        }
      ]
    },
    {
      "cell_type": "code",
      "source": [
        "df.shape"
      ],
      "metadata": {
        "colab": {
          "base_uri": "https://localhost:8080/"
        },
        "id": "ddTsVTjzbqKs",
        "outputId": "b7df64aa-2c98-4d1d-9234-564da593d065"
      },
      "execution_count": 97,
      "outputs": [
        {
          "output_type": "execute_result",
          "data": {
            "text/plain": [
              "(1000, 3)"
            ]
          },
          "metadata": {},
          "execution_count": 97
        }
      ]
    },
    {
      "cell_type": "code",
      "source": [
        "len(df)"
      ],
      "metadata": {
        "colab": {
          "base_uri": "https://localhost:8080/"
        },
        "id": "yYvErM7QcGPq",
        "outputId": "98e981e1-80ff-4770-86a7-586f159f3422"
      },
      "execution_count": 98,
      "outputs": [
        {
          "output_type": "execute_result",
          "data": {
            "text/plain": [
              "1000"
            ]
          },
          "metadata": {},
          "execution_count": 98
        }
      ]
    },
    {
      "cell_type": "code",
      "source": [],
      "metadata": {
        "id": "ocHiJJcjcHIx"
      },
      "execution_count": 98,
      "outputs": []
    }
  ]
}